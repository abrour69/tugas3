{
 "cells": [
  {
   "cell_type": "code",
   "execution_count": 20,
   "id": "04d8fbc5",
   "metadata": {},
   "outputs": [],
   "source": [
    "#menginport library yang di butuhkan agar metode logistic regresi dapat berjalan\n",
    "import pandas as pd\n",
    "from sklearn.model_selection import train_test_split\n",
    "from sklearn.preprocessing import OneHotEncoder\n",
    "from sklearn.linear_model import LogisticRegression\n",
    "from sklearn.metrics import accuracy_score, classification_report\n",
    "from sklearn.preprocessing import StandardScaler"
   ]
  },
  {
   "cell_type": "code",
   "execution_count": 30,
   "id": "958ff5c4",
   "metadata": {},
   "outputs": [],
   "source": [
    "#memanggil data traine dan data test \n",
    "data_train = pd.read_csv('bank-full.csv',delimiter=';')\n",
    "data_test = pd.read_csv('bank.csv', delimiter=';')"
   ]
  },
  {
   "cell_type": "code",
   "execution_count": 14,
   "id": "a100d4f0",
   "metadata": {},
   "outputs": [],
   "source": [
    "#melakukan endcoding untuk variabel kategori pada data\n",
    "data_train = pd.get_dummies(data_train, columns=['job', 'marital', 'education', 'default', 'housing', 'loan', 'contact', 'month', 'poutcome'], drop_first=True)\n",
    "data_test = pd.get_dummies(data_test, columns=['job', 'marital', 'education', 'default', 'housing', 'loan', 'contact', 'month', 'poutcome'], drop_first=True)"
   ]
  },
  {
   "cell_type": "code",
   "execution_count": 15,
   "id": "ce3ea205",
   "metadata": {},
   "outputs": [],
   "source": [
    "#memisahkan fitur X dan label Y pada data traine dan data test\n",
    "X_train = data_train.drop('y', axis=1)\n",
    "y_train = data_train['y']\n",
    "X_test = data_test.drop('y', axis=1)\n",
    "y_test = data_test['y']"
   ]
  },
  {
   "cell_type": "code",
   "execution_count": 21,
   "id": "20962251",
   "metadata": {},
   "outputs": [],
   "source": [
    "#membuat scaling pada data\n",
    "scaler = StandardScaler()\n",
    "X_train_scaled = scaler.fit_transform(X_train)\n",
    "X_test_scaled = scaler.transform(X_test)"
   ]
  },
  {
   "cell_type": "code",
   "execution_count": 22,
   "id": "a1f46f9f",
   "metadata": {},
   "outputs": [
    {
     "data": {
      "text/html": [
       "<style>#sk-container-id-4 {color: black;}#sk-container-id-4 pre{padding: 0;}#sk-container-id-4 div.sk-toggleable {background-color: white;}#sk-container-id-4 label.sk-toggleable__label {cursor: pointer;display: block;width: 100%;margin-bottom: 0;padding: 0.3em;box-sizing: border-box;text-align: center;}#sk-container-id-4 label.sk-toggleable__label-arrow:before {content: \"▸\";float: left;margin-right: 0.25em;color: #696969;}#sk-container-id-4 label.sk-toggleable__label-arrow:hover:before {color: black;}#sk-container-id-4 div.sk-estimator:hover label.sk-toggleable__label-arrow:before {color: black;}#sk-container-id-4 div.sk-toggleable__content {max-height: 0;max-width: 0;overflow: hidden;text-align: left;background-color: #f0f8ff;}#sk-container-id-4 div.sk-toggleable__content pre {margin: 0.2em;color: black;border-radius: 0.25em;background-color: #f0f8ff;}#sk-container-id-4 input.sk-toggleable__control:checked~div.sk-toggleable__content {max-height: 200px;max-width: 100%;overflow: auto;}#sk-container-id-4 input.sk-toggleable__control:checked~label.sk-toggleable__label-arrow:before {content: \"▾\";}#sk-container-id-4 div.sk-estimator input.sk-toggleable__control:checked~label.sk-toggleable__label {background-color: #d4ebff;}#sk-container-id-4 div.sk-label input.sk-toggleable__control:checked~label.sk-toggleable__label {background-color: #d4ebff;}#sk-container-id-4 input.sk-hidden--visually {border: 0;clip: rect(1px 1px 1px 1px);clip: rect(1px, 1px, 1px, 1px);height: 1px;margin: -1px;overflow: hidden;padding: 0;position: absolute;width: 1px;}#sk-container-id-4 div.sk-estimator {font-family: monospace;background-color: #f0f8ff;border: 1px dotted black;border-radius: 0.25em;box-sizing: border-box;margin-bottom: 0.5em;}#sk-container-id-4 div.sk-estimator:hover {background-color: #d4ebff;}#sk-container-id-4 div.sk-parallel-item::after {content: \"\";width: 100%;border-bottom: 1px solid gray;flex-grow: 1;}#sk-container-id-4 div.sk-label:hover label.sk-toggleable__label {background-color: #d4ebff;}#sk-container-id-4 div.sk-serial::before {content: \"\";position: absolute;border-left: 1px solid gray;box-sizing: border-box;top: 0;bottom: 0;left: 50%;z-index: 0;}#sk-container-id-4 div.sk-serial {display: flex;flex-direction: column;align-items: center;background-color: white;padding-right: 0.2em;padding-left: 0.2em;position: relative;}#sk-container-id-4 div.sk-item {position: relative;z-index: 1;}#sk-container-id-4 div.sk-parallel {display: flex;align-items: stretch;justify-content: center;background-color: white;position: relative;}#sk-container-id-4 div.sk-item::before, #sk-container-id-4 div.sk-parallel-item::before {content: \"\";position: absolute;border-left: 1px solid gray;box-sizing: border-box;top: 0;bottom: 0;left: 50%;z-index: -1;}#sk-container-id-4 div.sk-parallel-item {display: flex;flex-direction: column;z-index: 1;position: relative;background-color: white;}#sk-container-id-4 div.sk-parallel-item:first-child::after {align-self: flex-end;width: 50%;}#sk-container-id-4 div.sk-parallel-item:last-child::after {align-self: flex-start;width: 50%;}#sk-container-id-4 div.sk-parallel-item:only-child::after {width: 0;}#sk-container-id-4 div.sk-dashed-wrapped {border: 1px dashed gray;margin: 0 0.4em 0.5em 0.4em;box-sizing: border-box;padding-bottom: 0.4em;background-color: white;}#sk-container-id-4 div.sk-label label {font-family: monospace;font-weight: bold;display: inline-block;line-height: 1.2em;}#sk-container-id-4 div.sk-label-container {text-align: center;}#sk-container-id-4 div.sk-container {/* jupyter's `normalize.less` sets `[hidden] { display: none; }` but bootstrap.min.css set `[hidden] { display: none !important; }` so we also need the `!important` here to be able to override the default hidden behavior on the sphinx rendered scikit-learn.org. See: https://github.com/scikit-learn/scikit-learn/issues/21755 */display: inline-block !important;position: relative;}#sk-container-id-4 div.sk-text-repr-fallback {display: none;}</style><div id=\"sk-container-id-4\" class=\"sk-top-container\"><div class=\"sk-text-repr-fallback\"><pre>LogisticRegression(max_iter=1000)</pre><b>In a Jupyter environment, please rerun this cell to show the HTML representation or trust the notebook. <br />On GitHub, the HTML representation is unable to render, please try loading this page with nbviewer.org.</b></div><div class=\"sk-container\" hidden><div class=\"sk-item\"><div class=\"sk-estimator sk-toggleable\"><input class=\"sk-toggleable__control sk-hidden--visually\" id=\"sk-estimator-id-4\" type=\"checkbox\" checked><label for=\"sk-estimator-id-4\" class=\"sk-toggleable__label sk-toggleable__label-arrow\">LogisticRegression</label><div class=\"sk-toggleable__content\"><pre>LogisticRegression(max_iter=1000)</pre></div></div></div></div></div>"
      ],
      "text/plain": [
       "LogisticRegression(max_iter=1000)"
      ]
     },
     "execution_count": 22,
     "metadata": {},
     "output_type": "execute_result"
    }
   ],
   "source": [
    "#melatih model dengan maximal iterasi 1000\n",
    "model = LogisticRegression(solver='lbfgs', max_iter=1000)\n",
    "model.fit(X_train_scaled, y_train)"
   ]
  },
  {
   "cell_type": "code",
   "execution_count": 23,
   "id": "682f2c32",
   "metadata": {},
   "outputs": [],
   "source": [
    "#Pengujian Model\n",
    "y_pred = model.predict(X_test_scaled)"
   ]
  },
  {
   "cell_type": "code",
   "execution_count": 24,
   "id": "4d06f3b4",
   "metadata": {},
   "outputs": [],
   "source": [
    "#mengevaluasi ketepan model dalam memprediksi\n",
    "accuracy = accuracy_score(y_test, y_pred)\n",
    "report = classification_report(y_test, y_pred)"
   ]
  },
  {
   "cell_type": "code",
   "execution_count": 25,
   "id": "f1918614",
   "metadata": {},
   "outputs": [
    {
     "name": "stdout",
     "output_type": "stream",
     "text": [
      "Accuracy: 0.9020128290201282\n",
      "              precision    recall  f1-score   support\n",
      "\n",
      "          no       0.92      0.98      0.95      4000\n",
      "         yes       0.65      0.33      0.44       521\n",
      "\n",
      "    accuracy                           0.90      4521\n",
      "   macro avg       0.78      0.65      0.69      4521\n",
      "weighted avg       0.89      0.90      0.89      4521\n",
      "\n"
     ]
    }
   ],
   "source": [
    "print(f'Accuracy: {accuracy}')\n",
    "print(report)"
   ]
  },
  {
   "cell_type": "code",
   "execution_count": 31,
   "id": "42093376",
   "metadata": {},
   "outputs": [
    {
     "name": "stdout",
     "output_type": "stream",
     "text": [
      "Sample 1 - Predicted: no\n",
      "Sample 2 - Predicted: no\n",
      "Sample 3 - Predicted: no\n",
      "Sample 4 - Predicted: no\n",
      "Sample 5 - Predicted: no\n",
      "Sample 6 - Predicted: no\n",
      "Sample 7 - Predicted: no\n",
      "Sample 8 - Predicted: no\n",
      "Sample 9 - Predicted: no\n",
      "Sample 10 - Predicted: no\n",
      "Sample 11 - Predicted: no\n",
      "Sample 12 - Predicted: no\n",
      "Sample 13 - Predicted: no\n",
      "Sample 14 - Predicted: no\n",
      "Sample 15 - Predicted: no\n",
      "Sample 16 - Predicted: no\n",
      "Sample 17 - Predicted: no\n",
      "Sample 18 - Predicted: no\n",
      "Sample 19 - Predicted: no\n",
      "Sample 20 - Predicted: no\n",
      "Sample 21 - Predicted: no\n",
      "Sample 22 - Predicted: no\n",
      "Sample 23 - Predicted: no\n",
      "Sample 24 - Predicted: no\n",
      "Sample 25 - Predicted: no\n",
      "Sample 26 - Predicted: no\n",
      "Sample 27 - Predicted: no\n",
      "Sample 28 - Predicted: no\n",
      "Sample 29 - Predicted: no\n",
      "Sample 30 - Predicted: no\n",
      "Sample 31 - Predicted: yes\n",
      "Sample 32 - Predicted: no\n",
      "Sample 33 - Predicted: no\n",
      "Sample 34 - Predicted: yes\n",
      "Sample 35 - Predicted: no\n",
      "Sample 36 - Predicted: no\n",
      "Sample 37 - Predicted: no\n",
      "Sample 38 - Predicted: no\n",
      "Sample 39 - Predicted: no\n",
      "Sample 40 - Predicted: no\n",
      "Sample 41 - Predicted: no\n",
      "Sample 42 - Predicted: no\n",
      "Sample 43 - Predicted: no\n",
      "Sample 44 - Predicted: no\n",
      "Sample 45 - Predicted: no\n",
      "Sample 46 - Predicted: no\n",
      "Sample 47 - Predicted: no\n",
      "Sample 48 - Predicted: no\n",
      "Sample 49 - Predicted: no\n",
      "Sample 50 - Predicted: no\n",
      "Sample 51 - Predicted: no\n",
      "Sample 52 - Predicted: yes\n",
      "Sample 53 - Predicted: no\n",
      "Sample 54 - Predicted: no\n",
      "Sample 55 - Predicted: no\n",
      "Sample 56 - Predicted: no\n",
      "Sample 57 - Predicted: no\n",
      "Sample 58 - Predicted: no\n",
      "Sample 59 - Predicted: no\n",
      "Sample 60 - Predicted: no\n",
      "Sample 61 - Predicted: no\n",
      "Sample 62 - Predicted: no\n",
      "Sample 63 - Predicted: no\n",
      "Sample 64 - Predicted: no\n",
      "Sample 65 - Predicted: no\n",
      "Sample 66 - Predicted: no\n",
      "Sample 67 - Predicted: no\n",
      "Sample 68 - Predicted: no\n",
      "Sample 69 - Predicted: no\n",
      "Sample 70 - Predicted: no\n",
      "Sample 71 - Predicted: yes\n",
      "Sample 72 - Predicted: no\n",
      "Sample 73 - Predicted: no\n",
      "Sample 74 - Predicted: no\n",
      "Sample 75 - Predicted: no\n",
      "Sample 76 - Predicted: no\n",
      "Sample 77 - Predicted: no\n",
      "Sample 78 - Predicted: no\n",
      "Sample 79 - Predicted: no\n",
      "Sample 80 - Predicted: no\n",
      "Sample 81 - Predicted: no\n",
      "Sample 82 - Predicted: no\n",
      "Sample 83 - Predicted: no\n",
      "Sample 84 - Predicted: no\n",
      "Sample 85 - Predicted: no\n",
      "Sample 86 - Predicted: no\n",
      "Sample 87 - Predicted: no\n",
      "Sample 88 - Predicted: no\n",
      "Sample 89 - Predicted: no\n",
      "Sample 90 - Predicted: no\n",
      "Sample 91 - Predicted: no\n",
      "Sample 92 - Predicted: no\n",
      "Sample 93 - Predicted: no\n",
      "Sample 94 - Predicted: no\n",
      "Sample 95 - Predicted: no\n",
      "Sample 96 - Predicted: no\n",
      "Sample 97 - Predicted: no\n",
      "Sample 98 - Predicted: yes\n",
      "Sample 99 - Predicted: yes\n",
      "Sample 100 - Predicted: yes\n"
     ]
    }
   ],
   "source": [
    "#Menampilkan 100 data test yang di prediksi\n",
    "for i in range(100):\n",
    "    predicted_class = y_pred[i]\n",
    "    actual_class = y_test.iloc[i]\n",
    "\n",
    "    print(f\"Sample {i + 1} - Predicted: {predicted_class}\")"
   ]
  },
  {
   "cell_type": "code",
   "execution_count": null,
   "id": "2439e118",
   "metadata": {},
   "outputs": [],
   "source": []
  }
 ],
 "metadata": {
  "kernelspec": {
   "display_name": "Python 3 (ipykernel)",
   "language": "python",
   "name": "python3"
  },
  "language_info": {
   "codemirror_mode": {
    "name": "ipython",
    "version": 3
   },
   "file_extension": ".py",
   "mimetype": "text/x-python",
   "name": "python",
   "nbconvert_exporter": "python",
   "pygments_lexer": "ipython3",
   "version": "3.11.5"
  }
 },
 "nbformat": 4,
 "nbformat_minor": 5
}
